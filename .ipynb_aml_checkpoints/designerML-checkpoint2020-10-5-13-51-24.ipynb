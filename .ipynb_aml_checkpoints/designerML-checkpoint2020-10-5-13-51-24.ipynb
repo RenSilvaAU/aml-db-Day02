{
  "cells": [
    {
      "cell_type": "markdown",
      "source": [
        "# Designer ML\r\n",
        "\r\n",
        "Azure Machine Learning designer lets you visually connect datasets and modules on an interactive canvas to create machine learning models. To learn how to get started with the designer, see Tutorial: Predict automobile price with the designer\r\n",
        "\r\n",
        "<img src=\"https://docs.microsoft.com/en-us/azure/machine-learning/media/concept-designer/designer-drag-and-drop.gif\" width=\"800\">"
      ],
      "metadata": {
        "nteract": {
          "transient": {
            "deleting": false
          }
        }
      }
    },
    {
      "cell_type": "markdown",
      "source": [
        "### Look at this tutorial\r\n",
        "\r\n",
        "https://docs.microsoft.com/en-us/azure/machine-learning/tutorial-designer-automobile-price-train-score\r\n",
        "\r\n",
        "*** ==> Challenge ***\r\n",
        "*** Create a new "
      ],
      "metadata": {
        "nteract": {
          "transient": {
            "deleting": false
          }
        }
      }
    }
  ],
  "metadata": {
    "kernelspec": {
      "display_name": "Python 3.6 - AzureML",
      "language": "python",
      "name": "python3-azureml"
    },
    "language_info": {
      "codemirror_mode": {
        "name": "ipython",
        "version": 3
      },
      "file_extension": ".py",
      "mimetype": "text/x-python",
      "name": "python",
      "nbconvert_exporter": "python",
      "pygments_lexer": "ipython3",
      "version": "3.6.8"
    },
    "nteract": {
      "version": "nteract-front-end@1.0.0"
    }
  },
  "nbformat": 4,
  "nbformat_minor": 2
}