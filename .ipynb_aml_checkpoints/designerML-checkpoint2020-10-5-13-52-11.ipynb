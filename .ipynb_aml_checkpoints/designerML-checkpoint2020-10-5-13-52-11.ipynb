{
  "cells": [
    {
      "cell_type": "markdown",
      "source": [
        "# Designer ML\r\n",
        "\r\n",
        "Azure Machine Learning designer lets you visually connect datasets and modules on an interactive canvas to create machine learning models. To learn how to get started with the designer, see Tutorial: Predict automobile price with the designer\r\n",
        "\r\n",
        "<img src=\"https://docs.microsoft.com/en-us/azure/machine-learning/media/concept-designer/designer-drag-and-drop.gif\" width=\"800\">"
      ],
      "metadata": {
        "nteract": {
          "transient": {
            "deleting": false
          }
        }
      }
    },
    {
      "cell_type": "markdown",
      "source": [
        "### Look at this tutorial\r\n",
        "\r\n",
        "https://docs.microsoft.com/en-us/azure/machine-learning/tutorial-designer-automobile-price-train-score\r\n",
        "\r\n",
        "*** ==> Challenge ***\r\n",
        "*** Create a new designer project to train the model for "
      ],
      "metadata": {
        "nteract": {
          "transient": {
            "deleting": false
          }
        }
      }
    }
  ],
  "metadata": {
    "kernelspec": {
      "name": "python3-azureml",
      "language": "python",
      "display_name": "Python 3.6 - AzureML"
    },
    "language_info": {
      "name": "python",
      "version": "3.6.9",
      "mimetype": "text/x-python",
      "codemirror_mode": {
        "name": "ipython",
        "version": 3
      },
      "pygments_lexer": "ipython3",
      "nbconvert_exporter": "python",
      "file_extension": ".py"
    },
    "nteract": {
      "version": "nteract-front-end@1.0.0"
    },
    "kernel_info": {
      "name": "python3-azureml"
    }
  },
  "nbformat": 4,
  "nbformat_minor": 2
}